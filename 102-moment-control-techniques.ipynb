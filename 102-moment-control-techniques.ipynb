{
 "cells": [
  {
   "cell_type": "code",
   "execution_count": null,
   "metadata": {},
   "outputs": [
    {
     "name": "stdout",
     "output_type": "stream",
     "text": [
      "Estimated Pi: 3.142304\n"
     ]
    }
   ],
   "source": [
    "import numpy as np  # Import the numpy library for numerical operations\n",
    "\n",
    "def monte_carlo_pi_antithetic(n):\n",
    "    u = np.random.random(n // 2)  # Generate half of the samples\n",
    "    v = 1 - u  # Generate antithetic pairs\n",
    "    x = np.concatenate((u, v))  # Combine samples\n",
    "    y = np.random.random(n)  # Independent Y values\n",
    "    inside_circle = (x**2 + y**2) <= 1  # Check if points are inside the unit circle\n",
    "    return (np.sum(inside_circle) / n) * 4  # Estimate Pi\n",
    "\n",
    "print(\"Estimated Pi:\", monte_carlo_pi_antithetic(1000000))  # Print the estimated value of Pi"
   ]
  }
 ],
 "metadata": {
  "kernelspec": {
   "display_name": ".venv",
   "language": "python",
   "name": "python3"
  },
  "language_info": {
   "codemirror_mode": {
    "name": "ipython",
    "version": 3
   },
   "file_extension": ".py",
   "mimetype": "text/x-python",
   "name": "python",
   "nbconvert_exporter": "python",
   "pygments_lexer": "ipython3",
   "version": "3.10.12"
  }
 },
 "nbformat": 4,
 "nbformat_minor": 2
}
