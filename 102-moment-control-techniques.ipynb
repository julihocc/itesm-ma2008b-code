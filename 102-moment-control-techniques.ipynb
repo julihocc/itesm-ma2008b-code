{
 "cells": [
  {
   "cell_type": "code",
   "execution_count": 9,
   "metadata": {},
   "outputs": [
    {
     "name": "stdout",
     "output_type": "stream",
     "text": [
      "Estimated Pi: 3.139512\n"
     ]
    }
   ],
   "source": [
    "import numpy as np  # Import the numpy library for numerical operations\n",
    "\n",
    "def monte_carlo_pi_antithetic(n):\n",
    "    u = np.random.random(n // 2)  # Generate half of the samples\n",
    "    v = 1 - u  # Generate antithetic pairs\n",
    "    x = np.concatenate((u, v))  # Combine samples\n",
    "    y = np.random.random(n)  # Independent Y values\n",
    "    inside_circle = (x**2 + y**2) <= 1  # Check if points are inside the unit circle\n",
    "    return (np.sum(inside_circle) / n) * 4  # Estimate Pi\n",
    "\n",
    "print(\"Estimated Pi:\", monte_carlo_pi_antithetic(1000000))  # Print the estimated value of Pi"
   ]
  },
  {
   "cell_type": "code",
   "execution_count": 10,
   "metadata": {},
   "outputs": [
    {
     "name": "stdout",
     "output_type": "stream",
     "text": [
      "Monte Carlo estimate of integral using Control Variates: 0.7462361621498366\n",
      "Exact value of integral: 0.7468241328124271\n"
     ]
    }
   ],
   "source": [
    "from  scipy.integrate import quad\n",
    "\n",
    "def f(x):\n",
    "    return np.exp(-x**2)  # Target function\n",
    "\n",
    "def g(x):\n",
    "    return 1 - x**2  # Control variate (simpler function)\n",
    "\n",
    "n = 10000\n",
    "x = np.random.uniform(0, 1, n)\n",
    "f_x = f(x)\n",
    "g_x = g(x)\n",
    "\n",
    "c = -np.cov(f_x, g_x)[0, 1] / np.var(g_x)  # Optimal coefficient\n",
    "I_hat = np.mean(f_x + c * (g_x - np.mean(g_x)))  # Adjusted estimate\n",
    "\n",
    "print(\"Monte Carlo estimate of integral using Control Variates:\", I_hat)\n",
    "\n",
    "# Compare with the more exact value using SciPy integration\n",
    "\n",
    "exact_value = quad(f, 0, 1)[0]\n",
    "print(\"Exact value of integral:\", exact_value)"
   ]
  },
  {
   "cell_type": "code",
   "execution_count": 11,
   "metadata": {},
   "outputs": [
    {
     "name": "stdout",
     "output_type": "stream",
     "text": [
      "European Call Option Price: 10.4393 ± 0.0465\n"
     ]
    }
   ],
   "source": [
    "import numpy as np\n",
    "\n",
    "def monte_carlo_european_call(S0, K, T, r, sigma, num_simulations):\n",
    "    dt = T  # Single-step simulation\n",
    "    U = np.random.normal(0, 1, num_simulations // 2)  # Standard normal samples\n",
    "    V = -U  # Antithetic pairs\n",
    "    \n",
    "    Z = np.concatenate((U, V))  # Combine for variance reduction\n",
    "    ST = S0 * np.exp((r - 0.5 * sigma ** 2) * dt + sigma * np.sqrt(dt) * Z)\n",
    "    payoff = np.maximum(ST - K, 0)\n",
    "    discounted_payoff = np.exp(-r * T) * payoff\n",
    "    return np.mean(discounted_payoff), np.std(discounted_payoff) / np.sqrt(num_simulations)\n",
    "\n",
    "# Parameters\n",
    "S0, K, T, r, sigma, num_simulations = 100, 100, 1, 0.05, 0.2, 100000\n",
    "call_price, error = monte_carlo_european_call(S0, K, T, r, sigma, num_simulations)\n",
    "print(f\"European Call Option Price: {call_price:.4f} ± {error:.4f}\")"
   ]
  },
  {
   "cell_type": "code",
   "execution_count": 12,
   "metadata": {},
   "outputs": [
    {
     "name": "stdout",
     "output_type": "stream",
     "text": [
      "Estimated 95% Value at Risk (VaR): $-456,259.53\n"
     ]
    }
   ],
   "source": [
    "def monte_carlo_var(initial_value, mu, sigma, T, alpha, num_simulations):\n",
    "    dt = T\n",
    "    Z = np.random.normal(0, 1, num_simulations)\n",
    "    ST = initial_value * np.exp((mu - 0.5 * sigma ** 2) * dt + sigma * np.sqrt(dt) * Z)\n",
    "    losses = initial_value - ST\n",
    "    var_estimate = np.percentile(losses, 100 * (1 - alpha))\n",
    "    return var_estimate\n",
    "\n",
    "var_value = monte_carlo_var(1_000_000, 0.07, 0.2, 1, 0.95, 100000)\n",
    "print(f\"Estimated 95% Value at Risk (VaR): ${var_value:,.2f}\")"
   ]
  }
 ],
 "metadata": {
  "kernelspec": {
   "display_name": ".venv",
   "language": "python",
   "name": "python3"
  },
  "language_info": {
   "codemirror_mode": {
    "name": "ipython",
    "version": 3
   },
   "file_extension": ".py",
   "mimetype": "text/x-python",
   "name": "python",
   "nbconvert_exporter": "python",
   "pygments_lexer": "ipython3",
   "version": "3.10.12"
  }
 },
 "nbformat": 4,
 "nbformat_minor": 2
}
