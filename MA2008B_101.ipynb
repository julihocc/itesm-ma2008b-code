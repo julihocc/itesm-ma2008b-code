{
  "nbformat": 4,
  "nbformat_minor": 0,
  "metadata": {
    "colab": {
      "provenance": [],
      "authorship_tag": "ABX9TyOoxMlrIcdId/DE4oRwIRm4",
      "include_colab_link": true
    },
    "kernelspec": {
      "name": "python3",
      "display_name": "Python 3"
    },
    "language_info": {
      "name": "python"
    }
  },
  "cells": [
    {
      "cell_type": "markdown",
      "metadata": {
        "id": "view-in-github",
        "colab_type": "text"
      },
      "source": [
        "<a href=\"https://colab.research.google.com/github/julihocc/ma2008b-code-examples/blob/main/MA2008B_101.ipynb\" target=\"_parent\"><img src=\"https://colab.research.google.com/assets/colab-badge.svg\" alt=\"Open In Colab\"/></a>"
      ]
    },
    {
      "cell_type": "code",
      "execution_count": 7,
      "metadata": {
        "colab": {
          "base_uri": "https://localhost:8080/"
        },
        "id": "2taLXnY9gCdk",
        "outputId": "06a802c8-7b72-45b6-eeec-c76a368bcd31"
      },
      "outputs": [
        {
          "output_type": "stream",
          "name": "stdout",
          "text": [
            "[0.77395605 0.43887844 0.85859792 0.69736803 0.09417735 0.97562235\n",
            " 0.7611397  0.78606431 0.12811363 0.45038594]\n"
          ]
        }
      ],
      "source": [
        "# Import the NumPy random module\n",
        "from numpy.random import default_rng\n",
        "rng = default_rng(42)  # Initialize a PRNG with a fixed seed for reproducibility\n",
        "rand_nums = rng.random(10)  # Generate an array of 10 uniform random numbers in [0,1) range\n",
        "print(rand_nums)"
      ]
    },
    {
      "cell_type": "code",
      "source": [
        "# Import the secrets module for generating secure random numbers\n",
        "import secrets # Import the secrets module for generating secure random numbers\n",
        "import string # Import the string module for character selection\n",
        "def generate_password(length=12):  # Function to generate a secure password\n",
        "    chars = string.ascii_letters + string.digits + string.punctuation  # Define possible password characters\n",
        "    return ''.join(secrets.choice(chars) for _ in range(length))\n",
        "print(\"Secure Password:\", generate_password())  # Generate and display a secure password"
      ],
      "metadata": {
        "colab": {
          "base_uri": "https://localhost:8080/"
        },
        "id": "KT0F01DAgV0c",
        "outputId": "2553c9d9-19f7-4255-edea-0e4b1f488582"
      },
      "execution_count": 8,
      "outputs": [
        {
          "output_type": "stream",
          "name": "stdout",
          "text": [
            "Secure Password: ;Up'WDL]7I.D\n"
          ]
        }
      ]
    }
  ]
}